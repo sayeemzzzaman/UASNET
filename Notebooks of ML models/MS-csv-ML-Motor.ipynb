{
 "cells": [
  {
   "cell_type": "code",
   "execution_count": 1,
   "id": "40770a72-a3c6-4dc0-b2de-d5dfe92fe199",
   "metadata": {},
   "outputs": [
    {
     "name": "stdout",
     "output_type": "stream",
     "text": [
      "Requirement already satisfied: pandas in c:\\users\\hp\\miniconda3\\envs\\tf\\lib\\site-packages (2.2.1)\n",
      "Requirement already satisfied: scikit-learn in c:\\users\\hp\\miniconda3\\envs\\tf\\lib\\site-packages (1.4.1.post1)\n",
      "Requirement already satisfied: joblib in c:\\users\\hp\\miniconda3\\envs\\tf\\lib\\site-packages (1.3.2)\n",
      "Requirement already satisfied: numpy<2,>=1.22.4 in c:\\users\\hp\\miniconda3\\envs\\tf\\lib\\site-packages (from pandas) (1.26.4)\n",
      "Requirement already satisfied: python-dateutil>=2.8.2 in c:\\users\\hp\\miniconda3\\envs\\tf\\lib\\site-packages (from pandas) (2.8.2)\n",
      "Requirement already satisfied: pytz>=2020.1 in c:\\users\\hp\\miniconda3\\envs\\tf\\lib\\site-packages (from pandas) (2023.3.post1)\n",
      "Requirement already satisfied: tzdata>=2022.7 in c:\\users\\hp\\miniconda3\\envs\\tf\\lib\\site-packages (from pandas) (2024.1)\n",
      "Requirement already satisfied: scipy>=1.6.0 in c:\\users\\hp\\miniconda3\\envs\\tf\\lib\\site-packages (from scikit-learn) (1.12.0)\n",
      "Requirement already satisfied: threadpoolctl>=2.0.0 in c:\\users\\hp\\miniconda3\\envs\\tf\\lib\\site-packages (from scikit-learn) (3.4.0)\n",
      "Requirement already satisfied: six>=1.5 in c:\\users\\hp\\miniconda3\\envs\\tf\\lib\\site-packages (from python-dateutil>=2.8.2->pandas) (1.16.0)\n"
     ]
    }
   ],
   "source": [
    "!pip install pandas scikit-learn joblib"
   ]
  },
  {
   "cell_type": "markdown",
   "id": "83a77a1c-79ea-4232-9315-bccc55b90562",
   "metadata": {},
   "source": [
    "# Random Forest->"
   ]
  },
  {
   "cell_type": "code",
   "execution_count": 8,
   "id": "e82bd160-f7d3-46ca-b2ec-6c940655ddfe",
   "metadata": {},
   "outputs": [
    {
     "name": "stdout",
     "output_type": "stream",
     "text": [
      "Fitting 3 folds for each of 216 candidates, totalling 648 fits\n",
      "Accuracy: 0.9111111111111111\n",
      "Classification Report:\n",
      "              precision    recall  f1-score   support\n",
      "\n",
      "           0       0.90      0.81      0.85        43\n",
      "           1       0.92      0.96      0.94        92\n",
      "\n",
      "    accuracy                           0.91       135\n",
      "   macro avg       0.91      0.89      0.89       135\n",
      "weighted avg       0.91      0.91      0.91       135\n",
      "\n"
     ]
    },
    {
     "data": {
      "text/plain": [
       "['Motor_System_status_best_rf_model.joblib']"
      ]
     },
     "execution_count": 8,
     "metadata": {},
     "output_type": "execute_result"
    }
   ],
   "source": [
    "import pandas as pd\n",
    "import numpy as np\n",
    "from sklearn.model_selection import train_test_split, GridSearchCV\n",
    "from sklearn.preprocessing import StandardScaler\n",
    "from sklearn.ensemble import RandomForestClassifier\n",
    "from sklearn.metrics import classification_report, accuracy_score\n",
    "import joblib\n",
    "\n",
    "\n",
    "data_df = pd.read_csv('E:/Research data/MS/All based Sensory.csv')\n",
    "\n",
    "\n",
    "labels = data_df['Motor System']\n",
    "\n",
    "\n",
    "features = data_df.drop(columns=['Motor System', 'Image'])\n",
    "\n",
    "\n",
    "features.replace([np.inf, -np.inf], np.nan, inplace=True)\n",
    "\n",
    "\n",
    "features.fillna(features.median(), inplace=True)\n",
    "\n",
    "\n",
    "scaler = StandardScaler()\n",
    "features = scaler.fit_transform(features)\n",
    "\n",
    "\n",
    "X_train, X_test, y_train, y_test = train_test_split(features, labels, test_size=0.3, random_state=42)\n",
    "\n",
    "\n",
    "model = RandomForestClassifier(random_state=42, n_estimators=100)\n",
    "\n",
    "\n",
    "param_grid = {\n",
    "    'n_estimators': [100, 200, 300],\n",
    "    'max_depth': [None, 10, 20, 30],\n",
    "    'min_samples_split': [2, 5, 10],\n",
    "    'min_samples_leaf': [1, 2, 4],\n",
    "    'bootstrap': [True, False]\n",
    "}\n",
    "\n",
    "grid_search = GridSearchCV(estimator=model, param_grid=param_grid, cv=3, n_jobs=-1, verbose=2)\n",
    "grid_search.fit(X_train, y_train)\n",
    "\n",
    "\n",
    "best_model = grid_search.best_estimator_\n",
    "\n",
    "y_pred = best_model.predict(X_test)\n",
    "\n",
    "accuracy = accuracy_score(y_test, y_pred)\n",
    "report = classification_report(y_test, y_pred)\n",
    "\n",
    "print(f'Accuracy: {accuracy}')\n",
    "print('Classification Report:')\n",
    "print(report)\n",
    "\n",
    "joblib.dump(best_model, 'Motor_System_status_best_rf_model.joblib')\n",
    "\n"
   ]
  },
  {
   "cell_type": "markdown",
   "id": "06b7b4dc-37a3-4400-807b-e1218a7bc2d6",
   "metadata": {},
   "source": [
    "# Decision Tree ->"
   ]
  },
  {
   "cell_type": "code",
   "execution_count": 9,
   "id": "5ec17c11-7f3a-4ffb-ad0b-f24ab3784ca7",
   "metadata": {},
   "outputs": [
    {
     "name": "stdout",
     "output_type": "stream",
     "text": [
      "Accuracy: 0.9333333333333333\n",
      "Classification Report:\n",
      "              precision    recall  f1-score   support\n",
      "\n",
      "           0       0.95      0.84      0.89        43\n",
      "           1       0.93      0.98      0.95        92\n",
      "\n",
      "    accuracy                           0.93       135\n",
      "   macro avg       0.94      0.91      0.92       135\n",
      "weighted avg       0.93      0.93      0.93       135\n",
      "\n"
     ]
    },
    {
     "data": {
      "text/plain": [
       "['Motor_System_status_model.joblib']"
      ]
     },
     "execution_count": 9,
     "metadata": {},
     "output_type": "execute_result"
    }
   ],
   "source": [
    "import pandas as pd\n",
    "from sklearn.model_selection import train_test_split\n",
    "from sklearn.tree import DecisionTreeClassifier\n",
    "from sklearn.metrics import classification_report, accuracy_score\n",
    "import joblib\n",
    "\n",
    "data_df = pd.read_csv('E:/Research data/MS/All based Sensory.csv')\n",
    "\n",
    "labels = data_df['Motor System']\n",
    "\n",
    "\n",
    "features = data_df.drop(columns=['Motor System', 'Image'])\n",
    "\n",
    "features.replace([np.inf, -np.inf], np.nan, inplace=True)\n",
    "\n",
    "features.fillna(features.median(), inplace=True)\n",
    "\n",
    "X_train, X_test, y_train, y_test = train_test_split(features, labels, test_size=0.3, random_state=42)\n",
    "\n",
    "model = DecisionTreeClassifier(random_state=42)\n",
    "model.fit(X_train, y_train)\n",
    "\n",
    "y_pred = model.predict(X_test)\n",
    "\n",
    "accuracy = accuracy_score(y_test, y_pred)\n",
    "report = classification_report(y_test, y_pred)\n",
    "\n",
    "print(f'Accuracy: {accuracy}')\n",
    "print('Classification Report:')\n",
    "print(report)\n",
    "\n",
    "joblib.dump(model, 'Motor_System_status_model.joblib')\n",
    "\n"
   ]
  },
  {
   "cell_type": "markdown",
   "id": "78977201-951e-4434-bf97-21e2f4c0ccae",
   "metadata": {},
   "source": [
    "# Logistic Regression->"
   ]
  },
  {
   "cell_type": "code",
   "execution_count": 10,
   "id": "707e909b-9bab-4a21-908c-6bd5bd0cb5e1",
   "metadata": {},
   "outputs": [
    {
     "name": "stdout",
     "output_type": "stream",
     "text": [
      "Accuracy: 0.9333333333333333\n",
      "Classification Report:\n",
      "              precision    recall  f1-score   support\n",
      "\n",
      "           0       0.90      0.88      0.89        43\n",
      "           1       0.95      0.96      0.95        92\n",
      "\n",
      "    accuracy                           0.93       135\n",
      "   macro avg       0.93      0.92      0.92       135\n",
      "weighted avg       0.93      0.93      0.93       135\n",
      "\n"
     ]
    },
    {
     "name": "stderr",
     "output_type": "stream",
     "text": [
      "C:\\Users\\hp\\miniconda3\\envs\\tf\\lib\\site-packages\\sklearn\\linear_model\\_logistic.py:469: ConvergenceWarning: lbfgs failed to converge (status=1):\n",
      "STOP: TOTAL NO. of ITERATIONS REACHED LIMIT.\n",
      "\n",
      "Increase the number of iterations (max_iter) or scale the data as shown in:\n",
      "    https://scikit-learn.org/stable/modules/preprocessing.html\n",
      "Please also refer to the documentation for alternative solver options:\n",
      "    https://scikit-learn.org/stable/modules/linear_model.html#logistic-regression\n",
      "  n_iter_i = _check_optimize_result(\n"
     ]
    },
    {
     "data": {
      "text/plain": [
       "['Motor_System_status_model_logistics_regression.joblib']"
      ]
     },
     "execution_count": 10,
     "metadata": {},
     "output_type": "execute_result"
    }
   ],
   "source": [
    "import pandas as pd\n",
    "import numpy as np\n",
    "from sklearn.model_selection import train_test_split\n",
    "from sklearn.linear_model import LogisticRegression\n",
    "from sklearn.metrics import classification_report, accuracy_score, confusion_matrix\n",
    "import joblib\n",
    "import matplotlib.pyplot as plt\n",
    "import seaborn as sns\n",
    "\n",
    "data_df = pd.read_csv('E:/Research data/MS/All based Sensory.csv')\n",
    "\n",
    "labels = data_df['Motor System']\n",
    "\n",
    "\n",
    "features = data_df.drop(columns=['Motor System', 'Image'])\n",
    "\n",
    "features.replace([np.inf, -np.inf], np.nan, inplace=True)\n",
    "\n",
    "features.fillna(features.median(), inplace=True)\n",
    "\n",
    "X_train, X_test, y_train, y_test = train_test_split(features, labels, test_size=0.3, random_state=42)\n",
    "\n",
    "model = LogisticRegression(max_iter=10000, random_state=42)\n",
    "model.fit(X_train, y_train)\n",
    "\n",
    "y_pred = model.predict(X_test)\n",
    "\n",
    "accuracy = accuracy_score(y_test, y_pred)\n",
    "report = classification_report(y_test, y_pred)\n",
    "\n",
    "print(f'Accuracy: {accuracy}')\n",
    "print('Classification Report:')\n",
    "print(report)\n",
    "\n",
    "joblib.dump(model, 'Motor_System_status_model_logistics_regression.joblib')\n"
   ]
  },
  {
   "cell_type": "markdown",
   "id": "a5d96eec-1c85-4dca-aa80-98756a311e6d",
   "metadata": {},
   "source": [
    "# Naive Bayes"
   ]
  },
  {
   "cell_type": "code",
   "execution_count": 12,
   "id": "e415a98c-7c9a-4034-8f33-6b98db63639a",
   "metadata": {},
   "outputs": [
    {
     "name": "stdout",
     "output_type": "stream",
     "text": [
      "Accuracy: 0.762962962962963\n",
      "Classification Report:\n",
      "              precision    recall  f1-score   support\n",
      "\n",
      "           0       0.68      0.49      0.57        43\n",
      "           1       0.79      0.89      0.84        92\n",
      "\n",
      "    accuracy                           0.76       135\n",
      "   macro avg       0.73      0.69      0.70       135\n",
      "weighted avg       0.75      0.76      0.75       135\n",
      "\n"
     ]
    },
    {
     "data": {
      "text/plain": [
       "['Motor_system_status_naive_bayes_model.joblib']"
      ]
     },
     "execution_count": 12,
     "metadata": {},
     "output_type": "execute_result"
    }
   ],
   "source": [
    "import pandas as pd\n",
    "import numpy as np\n",
    "from sklearn.model_selection import train_test_split\n",
    "from sklearn.naive_bayes import GaussianNB\n",
    "from sklearn.metrics import classification_report, accuracy_score, confusion_matrix\n",
    "import joblib\n",
    "import matplotlib.pyplot as plt\n",
    "import seaborn as sns\n",
    "\n",
    "data_df = pd.read_csv('E:/Research data/MS/All based Sensory.csv')\n",
    "\n",
    "labels = data_df['Motor System']\n",
    "\n",
    "\n",
    "features = data_df.drop(columns=['Motor System', 'Image'])\n",
    "\n",
    "features = data_df.drop(columns=['Motor System', 'Image'])\n",
    "\n",
    "\n",
    "features.replace([np.inf, -np.inf], np.nan, inplace=True)\n",
    "\n",
    "features.fillna(features.median(), inplace=True)\n",
    "\n",
    "X_train, X_test, y_train, y_test = train_test_split(features, labels, test_size=0.3, random_state=42)\n",
    "\n",
    "model = GaussianNB()\n",
    "model.fit(X_train, y_train)\n",
    "\n",
    "y_pred = model.predict(X_test)\n",
    "\n",
    "accuracy = accuracy_score(y_test, y_pred)\n",
    "report = classification_report(y_test, y_pred)\n",
    "\n",
    "print(f'Accuracy: {accuracy}')\n",
    "print('Classification Report:')\n",
    "print(report)\n",
    "\n",
    "joblib.dump(model, 'Motor_system_status_naive_bayes_model.joblib')\n",
    "\n"
   ]
  },
  {
   "cell_type": "code",
   "execution_count": null,
   "id": "21e6f2fa-3cea-4f58-b217-fc4a2fe00162",
   "metadata": {},
   "outputs": [],
   "source": []
  }
 ],
 "metadata": {
  "kernelspec": {
   "display_name": "Python 3 (ipykernel)",
   "language": "python",
   "name": "python3"
  },
  "language_info": {
   "codemirror_mode": {
    "name": "ipython",
    "version": 3
   },
   "file_extension": ".py",
   "mimetype": "text/x-python",
   "name": "python",
   "nbconvert_exporter": "python",
   "pygments_lexer": "ipython3",
   "version": "3.9.19"
  }
 },
 "nbformat": 4,
 "nbformat_minor": 5
}
