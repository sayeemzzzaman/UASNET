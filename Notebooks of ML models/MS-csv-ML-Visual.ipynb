{
 "cells": [
  {
   "cell_type": "code",
   "execution_count": 1,
   "id": "24e89c3a-74d9-432b-a527-d02ae701becb",
   "metadata": {},
   "outputs": [
    {
     "name": "stdout",
     "output_type": "stream",
     "text": [
      "Requirement already satisfied: pandas in c:\\users\\hp\\miniconda3\\envs\\tf\\lib\\site-packages (2.2.1)\n",
      "Requirement already satisfied: scikit-learn in c:\\users\\hp\\miniconda3\\envs\\tf\\lib\\site-packages (1.4.1.post1)\n",
      "Requirement already satisfied: joblib in c:\\users\\hp\\miniconda3\\envs\\tf\\lib\\site-packages (1.3.2)\n",
      "Requirement already satisfied: numpy<2,>=1.22.4 in c:\\users\\hp\\miniconda3\\envs\\tf\\lib\\site-packages (from pandas) (1.26.4)\n",
      "Requirement already satisfied: python-dateutil>=2.8.2 in c:\\users\\hp\\miniconda3\\envs\\tf\\lib\\site-packages (from pandas) (2.8.2)\n",
      "Requirement already satisfied: pytz>=2020.1 in c:\\users\\hp\\miniconda3\\envs\\tf\\lib\\site-packages (from pandas) (2023.3.post1)\n",
      "Requirement already satisfied: tzdata>=2022.7 in c:\\users\\hp\\miniconda3\\envs\\tf\\lib\\site-packages (from pandas) (2024.1)\n",
      "Requirement already satisfied: scipy>=1.6.0 in c:\\users\\hp\\miniconda3\\envs\\tf\\lib\\site-packages (from scikit-learn) (1.12.0)\n",
      "Requirement already satisfied: threadpoolctl>=2.0.0 in c:\\users\\hp\\miniconda3\\envs\\tf\\lib\\site-packages (from scikit-learn) (3.4.0)\n",
      "Requirement already satisfied: six>=1.5 in c:\\users\\hp\\miniconda3\\envs\\tf\\lib\\site-packages (from python-dateutil>=2.8.2->pandas) (1.16.0)\n"
     ]
    }
   ],
   "source": [
    "!pip install pandas scikit-learn joblib"
   ]
  },
  {
   "cell_type": "code",
   "execution_count": 2,
   "id": "0b7c0957-dc05-4633-a975-966f35726bd2",
   "metadata": {},
   "outputs": [
    {
     "name": "stdout",
     "output_type": "stream",
     "text": [
      "Fitting 3 folds for each of 216 candidates, totalling 648 fits\n",
      "Accuracy: 0.7407407407407407\n",
      "Classification Report:\n",
      "              precision    recall  f1-score   support\n",
      "\n",
      "           0       0.76      0.83      0.79        81\n",
      "           1       0.70      0.61      0.65        54\n",
      "\n",
      "    accuracy                           0.74       135\n",
      "   macro avg       0.73      0.72      0.72       135\n",
      "weighted avg       0.74      0.74      0.74       135\n",
      "\n"
     ]
    },
    {
     "data": {
      "text/plain": [
       "['Visual_status_best_rf_model.joblib']"
      ]
     },
     "execution_count": 2,
     "metadata": {},
     "output_type": "execute_result"
    }
   ],
   "source": [
    "import pandas as pd\n",
    "import numpy as np\n",
    "from sklearn.model_selection import train_test_split, GridSearchCV\n",
    "from sklearn.preprocessing import StandardScaler\n",
    "from sklearn.ensemble import RandomForestClassifier\n",
    "from sklearn.metrics import classification_report, accuracy_score\n",
    "import joblib\n",
    "\n",
    "data_df = pd.read_csv('E:/Research data/MS/All based Sensory.csv')\n",
    "\n",
    "labels = data_df['Visual']\n",
    "\n",
    "features = data_df.drop(columns=['Visual', 'Image'])\n",
    "\n",
    "features.replace([np.inf, -np.inf], np.nan, inplace=True)\n",
    "\n",
    "features.fillna(features.median(), inplace=True)\n",
    "\n",
    "scaler = StandardScaler()\n",
    "features = scaler.fit_transform(features)\n",
    "\n",
    "X_train, X_test, y_train, y_test = train_test_split(features, labels, test_size=0.3, random_state=42)\n",
    "\n",
    "model = RandomForestClassifier(random_state=42, n_estimators=100)\n",
    "\n",
    "param_grid = {\n",
    "    'n_estimators': [100, 200, 300],\n",
    "    'max_depth': [None, 10, 20, 30],\n",
    "    'min_samples_split': [2, 5, 10],\n",
    "    'min_samples_leaf': [1, 2, 4],\n",
    "    'bootstrap': [True, False]\n",
    "}\n",
    "\n",
    "grid_search = GridSearchCV(estimator=model, param_grid=param_grid, cv=3, n_jobs=-1, verbose=2)\n",
    "grid_search.fit(X_train, y_train)\n",
    "\n",
    "best_model = grid_search.best_estimator_\n",
    "\n",
    "y_pred = best_model.predict(X_test)\n",
    "\n",
    "accuracy = accuracy_score(y_test, y_pred)\n",
    "report = classification_report(y_test, y_pred)\n",
    "\n",
    "print(f'Accuracy: {accuracy}')\n",
    "print('Classification Report:')\n",
    "print(report)\n",
    "\n",
    "joblib.dump(best_model, 'Visual_status_best_rf_model.joblib')\n",
    "\n"
   ]
  },
  {
   "cell_type": "code",
   "execution_count": 3,
   "id": "fa28a8fc-bd62-43d0-b92a-147313370e7e",
   "metadata": {},
   "outputs": [
    {
     "name": "stdout",
     "output_type": "stream",
     "text": [
      "Accuracy: 0.762962962962963\n",
      "Classification Report:\n",
      "              precision    recall  f1-score   support\n",
      "\n",
      "           0       0.78      0.84      0.81        81\n",
      "           1       0.73      0.65      0.69        54\n",
      "\n",
      "    accuracy                           0.76       135\n",
      "   macro avg       0.76      0.74      0.75       135\n",
      "weighted avg       0.76      0.76      0.76       135\n",
      "\n"
     ]
    },
    {
     "data": {
      "text/plain": [
       "['Visual_status_model.joblib']"
      ]
     },
     "execution_count": 3,
     "metadata": {},
     "output_type": "execute_result"
    }
   ],
   "source": [
    "import pandas as pd\n",
    "from sklearn.model_selection import train_test_split\n",
    "from sklearn.tree import DecisionTreeClassifier\n",
    "from sklearn.metrics import classification_report, accuracy_score\n",
    "import joblib\n",
    "\n",
    "data_df = pd.read_csv('E:/Research data/MS/All based Sensory.csv')\n",
    "\n",
    "labels = data_df['Visual']\n",
    "\n",
    "\n",
    "features = data_df.drop(columns=['Visual', 'Image'])\n",
    "\n",
    "features.replace([np.inf, -np.inf], np.nan, inplace=True)\n",
    "\n",
    "features.fillna(features.median(), inplace=True)\n",
    "\n",
    "X_train, X_test, y_train, y_test = train_test_split(features, labels, test_size=0.3, random_state=42)\n",
    "\n",
    "model = DecisionTreeClassifier(random_state=42)\n",
    "model.fit(X_train, y_train)\n",
    "\n",
    "y_pred = model.predict(X_test)\n",
    "\n",
    "accuracy = accuracy_score(y_test, y_pred)\n",
    "report = classification_report(y_test, y_pred)\n",
    "\n",
    "print(f'Accuracy: {accuracy}')\n",
    "print('Classification Report:')\n",
    "print(report)\n",
    "\n",
    "joblib.dump(model, 'Visual_status_model.joblib')\n",
    "\n"
   ]
  },
  {
   "cell_type": "code",
   "execution_count": 4,
   "id": "015f0932-cd24-4448-b6a7-b25850fe48ca",
   "metadata": {},
   "outputs": [
    {
     "name": "stdout",
     "output_type": "stream",
     "text": [
      "Accuracy: 0.7777777777777778\n",
      "Classification Report:\n",
      "              precision    recall  f1-score   support\n",
      "\n",
      "           0       0.76      0.91      0.83        81\n",
      "           1       0.82      0.57      0.67        54\n",
      "\n",
      "    accuracy                           0.78       135\n",
      "   macro avg       0.79      0.74      0.75       135\n",
      "weighted avg       0.78      0.78      0.77       135\n",
      "\n"
     ]
    },
    {
     "name": "stderr",
     "output_type": "stream",
     "text": [
      "C:\\Users\\hp\\miniconda3\\envs\\tf\\lib\\site-packages\\sklearn\\linear_model\\_logistic.py:469: ConvergenceWarning: lbfgs failed to converge (status=1):\n",
      "STOP: TOTAL NO. of ITERATIONS REACHED LIMIT.\n",
      "\n",
      "Increase the number of iterations (max_iter) or scale the data as shown in:\n",
      "    https://scikit-learn.org/stable/modules/preprocessing.html\n",
      "Please also refer to the documentation for alternative solver options:\n",
      "    https://scikit-learn.org/stable/modules/linear_model.html#logistic-regression\n",
      "  n_iter_i = _check_optimize_result(\n"
     ]
    },
    {
     "data": {
      "text/plain": [
       "['Visual_status_model_logistics_regression.joblib']"
      ]
     },
     "execution_count": 4,
     "metadata": {},
     "output_type": "execute_result"
    }
   ],
   "source": [
    "import pandas as pd\n",
    "import numpy as np\n",
    "from sklearn.model_selection import train_test_split\n",
    "from sklearn.linear_model import LogisticRegression\n",
    "from sklearn.metrics import classification_report, accuracy_score, confusion_matrix\n",
    "import joblib\n",
    "import matplotlib.pyplot as plt\n",
    "import seaborn as sns\n",
    "\n",
    "data_df = pd.read_csv('E:/Research data/MS/All based Sensory.csv')\n",
    "\n",
    "labels = data_df['Visual']\n",
    "\n",
    "\n",
    "features = data_df.drop(columns=['Visual', 'Image'])\n",
    "\n",
    "features.replace([np.inf, -np.inf], np.nan, inplace=True)\n",
    "\n",
    "features.fillna(features.median(), inplace=True)\n",
    "\n",
    "X_train, X_test, y_train, y_test = train_test_split(features, labels, test_size=0.3, random_state=42)\n",
    "\n",
    "model = LogisticRegression(max_iter=10000, random_state=42)\n",
    "model.fit(X_train, y_train)\n",
    "\n",
    "y_pred = model.predict(X_test)\n",
    "\n",
    "accuracy = accuracy_score(y_test, y_pred)\n",
    "report = classification_report(y_test, y_pred)\n",
    "\n",
    "print(f'Accuracy: {accuracy}')\n",
    "print('Classification Report:')\n",
    "print(report)\n",
    "\n",
    "joblib.dump(model, 'Visual_status_model_logistics_regression.joblib')\n"
   ]
  },
  {
   "cell_type": "code",
   "execution_count": 5,
   "id": "c801a381-d512-46e2-bebc-1ac6b17b801d",
   "metadata": {},
   "outputs": [
    {
     "name": "stdout",
     "output_type": "stream",
     "text": [
      "Accuracy: 0.5851851851851851\n",
      "Classification Report:\n",
      "              precision    recall  f1-score   support\n",
      "\n",
      "           0       0.68      0.59      0.63        81\n",
      "           1       0.48      0.57      0.53        54\n",
      "\n",
      "    accuracy                           0.59       135\n",
      "   macro avg       0.58      0.58      0.58       135\n",
      "weighted avg       0.60      0.59      0.59       135\n",
      "\n"
     ]
    },
    {
     "data": {
      "text/plain": [
       "['Visual_status_naive_bayes_model.joblib']"
      ]
     },
     "execution_count": 5,
     "metadata": {},
     "output_type": "execute_result"
    }
   ],
   "source": [
    "import pandas as pd\n",
    "import numpy as np\n",
    "from sklearn.model_selection import train_test_split\n",
    "from sklearn.naive_bayes import GaussianNB\n",
    "from sklearn.metrics import classification_report, accuracy_score, confusion_matrix\n",
    "import joblib\n",
    "import matplotlib.pyplot as plt\n",
    "import seaborn as sns\n",
    "\n",
    "data_df = pd.read_csv('E:/Research data/MS/All based Sensory.csv')\n",
    "\n",
    "labels = data_df['Visual']\n",
    "\n",
    "\n",
    "features = data_df.drop(columns=['Visual', 'Image'])\n",
    "\n",
    "\n",
    "features.replace([np.inf, -np.inf], np.nan, inplace=True)\n",
    "\n",
    "features.fillna(features.median(), inplace=True)\n",
    "\n",
    "X_train, X_test, y_train, y_test = train_test_split(features, labels, test_size=0.3, random_state=42)\n",
    "\n",
    "model = GaussianNB()\n",
    "model.fit(X_train, y_train)\n",
    "\n",
    "y_pred = model.predict(X_test)\n",
    "\n",
    "accuracy = accuracy_score(y_test, y_pred)\n",
    "report = classification_report(y_test, y_pred)\n",
    "\n",
    "print(f'Accuracy: {accuracy}')\n",
    "print('Classification Report:')\n",
    "print(report)\n",
    "\n",
    "joblib.dump(model, 'Visual_status_naive_bayes_model.joblib')\n",
    "\n"
   ]
  },
  {
   "cell_type": "code",
   "execution_count": null,
   "id": "7b72aad4-f05f-4047-b7d7-dfff6c710054",
   "metadata": {},
   "outputs": [],
   "source": []
  }
 ],
 "metadata": {
  "kernelspec": {
   "display_name": "Python 3 (ipykernel)",
   "language": "python",
   "name": "python3"
  },
  "language_info": {
   "codemirror_mode": {
    "name": "ipython",
    "version": 3
   },
   "file_extension": ".py",
   "mimetype": "text/x-python",
   "name": "python",
   "nbconvert_exporter": "python",
   "pygments_lexer": "ipython3",
   "version": "3.9.19"
  }
 },
 "nbformat": 4,
 "nbformat_minor": 5
}
