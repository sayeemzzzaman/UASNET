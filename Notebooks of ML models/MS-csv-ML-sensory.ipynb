{
 "cells": [
  {
   "cell_type": "code",
   "execution_count": 1,
   "id": "d4cb8d1c-c492-45a8-9a65-3f1e637653e5",
   "metadata": {},
   "outputs": [
    {
     "name": "stdout",
     "output_type": "stream",
     "text": [
      "Requirement already satisfied: pandas in c:\\users\\hp\\miniconda3\\envs\\tf\\lib\\site-packages (2.2.1)\n",
      "Requirement already satisfied: scikit-learn in c:\\users\\hp\\miniconda3\\envs\\tf\\lib\\site-packages (1.4.1.post1)\n",
      "Requirement already satisfied: joblib in c:\\users\\hp\\miniconda3\\envs\\tf\\lib\\site-packages (1.3.2)\n",
      "Requirement already satisfied: numpy<2,>=1.22.4 in c:\\users\\hp\\miniconda3\\envs\\tf\\lib\\site-packages (from pandas) (1.26.4)\n",
      "Requirement already satisfied: python-dateutil>=2.8.2 in c:\\users\\hp\\miniconda3\\envs\\tf\\lib\\site-packages (from pandas) (2.8.2)\n",
      "Requirement already satisfied: pytz>=2020.1 in c:\\users\\hp\\miniconda3\\envs\\tf\\lib\\site-packages (from pandas) (2023.3.post1)\n",
      "Requirement already satisfied: tzdata>=2022.7 in c:\\users\\hp\\miniconda3\\envs\\tf\\lib\\site-packages (from pandas) (2024.1)\n",
      "Requirement already satisfied: scipy>=1.6.0 in c:\\users\\hp\\miniconda3\\envs\\tf\\lib\\site-packages (from scikit-learn) (1.12.0)\n",
      "Requirement already satisfied: threadpoolctl>=2.0.0 in c:\\users\\hp\\miniconda3\\envs\\tf\\lib\\site-packages (from scikit-learn) (3.4.0)\n",
      "Requirement already satisfied: six>=1.5 in c:\\users\\hp\\miniconda3\\envs\\tf\\lib\\site-packages (from python-dateutil>=2.8.2->pandas) (1.16.0)\n"
     ]
    }
   ],
   "source": [
    "!pip install pandas scikit-learn joblib"
   ]
  },
  {
   "cell_type": "markdown",
   "id": "b1775cf9-0c79-4429-a24b-3abb5f7b6c7c",
   "metadata": {},
   "source": [
    "# Decision Tree->"
   ]
  },
  {
   "cell_type": "code",
   "execution_count": 6,
   "id": "52a4c4ff-c19b-4598-ba04-6048700b0f81",
   "metadata": {},
   "outputs": [
    {
     "name": "stdout",
     "output_type": "stream",
     "text": [
      "Accuracy: 0.8389261744966443\n",
      "Classification Report:\n",
      "              precision    recall  f1-score   support\n",
      "\n",
      "           0       0.80      0.89      0.84        72\n",
      "           1       0.88      0.79      0.84        77\n",
      "\n",
      "    accuracy                           0.84       149\n",
      "   macro avg       0.84      0.84      0.84       149\n",
      "weighted avg       0.84      0.84      0.84       149\n",
      "\n"
     ]
    },
    {
     "data": {
      "text/plain": [
       "['sensory_status_model.joblib']"
      ]
     },
     "execution_count": 6,
     "metadata": {},
     "output_type": "execute_result"
    }
   ],
   "source": [
    "import pandas as pd\n",
    "from sklearn.model_selection import train_test_split\n",
    "from sklearn.tree import DecisionTreeClassifier\n",
    "from sklearn.metrics import classification_report, accuracy_score\n",
    "import joblib\n",
    "\n",
    "sensory_abnormal_df = pd.read_csv('E:/Research data/MS/Sensory_Abnormal.csv')\n",
    "sensory_normal_df = pd.read_csv('E:/Research data/MS/Sensory_Normal.csv')\n",
    "\n",
    "sensory_abnormal_df['Sensory_Status'] = 'Abnormal'\n",
    "sensory_normal_df['Sensory_Status'] = 'Normal'\n",
    "\n",
    "data_df = pd.concat([sensory_abnormal_df, sensory_normal_df])\n",
    "\n",
    "data_df['Sensory_Status'] = data_df['Sensory_Status'].map({'Normal': 0, 'Abnormal': 1})\n",
    "\n",
    "features = data_df.drop(columns=['Sensory_Status', 'Image'])\n",
    "labels = data_df['Sensory_Status']\n",
    "\n",
    "features.replace([np.inf, -np.inf], np.nan, inplace=True)\n",
    "\n",
    "features.fillna(features.median(), inplace=True)\n",
    "\n",
    "X_train, X_test, y_train, y_test = train_test_split(features, labels, test_size=0.3, random_state=42)\n",
    "\n",
    "model = DecisionTreeClassifier(random_state=42)\n",
    "model.fit(X_train, y_train)\n",
    "\n",
    "y_pred = model.predict(X_test)\n",
    "\n",
    "accuracy = accuracy_score(y_test, y_pred)\n",
    "report = classification_report(y_test, y_pred)\n",
    "\n",
    "print(f'Accuracy: {accuracy}')\n",
    "print('Classification Report:')\n",
    "print(report)\n",
    "\n",
    "joblib.dump(model, 'sensory_status_model.joblib')\n",
    "\n"
   ]
  },
  {
   "cell_type": "markdown",
   "id": "e760ddbe-64b7-4daa-82bc-1dd8c064291e",
   "metadata": {},
   "source": [
    "# Random Forest ->"
   ]
  },
  {
   "cell_type": "code",
   "execution_count": 8,
   "id": "5bc369e4-c2c3-40fc-ad0b-aca8a6001239",
   "metadata": {},
   "outputs": [
    {
     "name": "stdout",
     "output_type": "stream",
     "text": [
      "Accuracy: 0.8456375838926175\n",
      "Classification Report:\n",
      "              precision    recall  f1-score   support\n",
      "\n",
      "           0       0.84      0.85      0.84        72\n",
      "           1       0.86      0.84      0.85        77\n",
      "\n",
      "    accuracy                           0.85       149\n",
      "   macro avg       0.85      0.85      0.85       149\n",
      "weighted avg       0.85      0.85      0.85       149\n",
      "\n"
     ]
    },
    {
     "data": {
      "text/plain": [
       "['sensory_status_rf_model.joblib']"
      ]
     },
     "execution_count": 8,
     "metadata": {},
     "output_type": "execute_result"
    }
   ],
   "source": [
    "from sklearn.ensemble import RandomForestClassifier\n",
    "\n",
    "sensory_abnormal_df['Sensory_Status'] = 'Abnormal'\n",
    "sensory_normal_df['Sensory_Status'] = 'Normal'\n",
    "\n",
    "data_df = pd.concat([sensory_abnormal_df, sensory_normal_df])\n",
    "\n",
    "data_df['Sensory_Status'] = data_df['Sensory_Status'].map({'Normal': 0, 'Abnormal': 1})\n",
    "\n",
    "features = data_df.drop(columns=['Sensory_Status', 'Image'])\n",
    "labels = data_df['Sensory_Status']\n",
    "\n",
    "features.replace([np.inf, -np.inf], np.nan, inplace=True)\n",
    "\n",
    "features.fillna(features.median(), inplace=True)\n",
    "\n",
    "X_train, X_test, y_train, y_test = train_test_split(features, labels, test_size=0.3, random_state=42)\n",
    "\n",
    "model = RandomForestClassifier(random_state=42, n_estimators=100)\n",
    "model.fit(X_train, y_train)\n",
    "\n",
    "y_pred = model.predict(X_test)\n",
    "\n",
    "accuracy = accuracy_score(y_test, y_pred)\n",
    "report = classification_report(y_test, y_pred)\n",
    "\n",
    "print(f'Accuracy: {accuracy}')\n",
    "print('Classification Report:')\n",
    "print(report)\n",
    "\n",
    "joblib.dump(model, 'sensory_status_rf_model.joblib')\n",
    "\n"
   ]
  },
  {
   "cell_type": "code",
   "execution_count": 11,
   "id": "c1ee84ed-5ef7-4a85-8097-42dd298ffce4",
   "metadata": {},
   "outputs": [
    {
     "name": "stdout",
     "output_type": "stream",
     "text": [
      "Fitting 3 folds for each of 216 candidates, totalling 648 fits\n",
      "Accuracy: 0.8590604026845637\n",
      "Classification Report:\n",
      "              precision    recall  f1-score   support\n",
      "\n",
      "           0       0.84      0.88      0.86        72\n",
      "           1       0.88      0.84      0.86        77\n",
      "\n",
      "    accuracy                           0.86       149\n",
      "   macro avg       0.86      0.86      0.86       149\n",
      "weighted avg       0.86      0.86      0.86       149\n",
      "\n"
     ]
    },
    {
     "data": {
      "text/plain": [
       "['sensory_status_best_rf_model.joblib']"
      ]
     },
     "execution_count": 11,
     "metadata": {},
     "output_type": "execute_result"
    }
   ],
   "source": [
    "from sklearn.model_selection import train_test_split, GridSearchCV\n",
    "\n",
    "sensory_abnormal_df = pd.read_csv('E:/Research data/MS/Sensory_Abnormal.csv')\n",
    "sensory_normal_df = pd.read_csv('E:/Research data/MS/Sensory_Normal.csv')\n",
    "\n",
    "sensory_abnormal_df['Sensory_Status'] = 'Abnormal'\n",
    "sensory_normal_df['Sensory_Status'] = 'Normal'\n",
    "\n",
    "data_df = pd.concat([sensory_abnormal_df, sensory_normal_df])\n",
    "\n",
    "data_df['Sensory_Status'] = data_df['Sensory_Status'].map({'Normal': 0, 'Abnormal': 1})\n",
    "\n",
    "features = data_df.drop(columns=['Sensory_Status', 'Image'])\n",
    "labels = data_df['Sensory_Status']\n",
    "\n",
    "features.replace([np.inf, -np.inf], np.nan, inplace=True)\n",
    "\n",
    "features.fillna(features.median(), inplace=True)\n",
    "\n",
    "X_train, X_test, y_train, y_test = train_test_split(features, labels, test_size=0.3, random_state=42)\n",
    "\n",
    "model = RandomForestClassifier(random_state=42)\n",
    "\n",
    "param_grid = {\n",
    "    'n_estimators': [100, 200, 300],\n",
    "    'max_depth': [None, 10, 20, 30],\n",
    "    'min_samples_split': [2, 5, 10],\n",
    "    'min_samples_leaf': [1, 2, 4],\n",
    "    'bootstrap': [True, False]\n",
    "}\n",
    "\n",
    "grid_search = GridSearchCV(estimator=model, param_grid=param_grid, cv=3, n_jobs=-1, verbose=2)\n",
    "grid_search.fit(X_train, y_train)\n",
    "\n",
    "best_model = grid_search.best_estimator_\n",
    "\n",
    "y_pred = best_model.predict(X_test)\n",
    "\n",
    "accuracy = accuracy_score(y_test, y_pred)\n",
    "report = classification_report(y_test, y_pred)\n",
    "\n",
    "print(f'Accuracy: {accuracy}')\n",
    "print('Classification Report:')\n",
    "print(report)\n",
    "\n",
    "joblib.dump(best_model, 'sensory_status_best_rf_model.joblib')\n",
    "\n"
   ]
  },
  {
   "cell_type": "markdown",
   "id": "bc6f35a4-9fe7-4b9c-8dd1-335ee62efedc",
   "metadata": {},
   "source": [
    "# Logistic Regression ->"
   ]
  },
  {
   "cell_type": "code",
   "execution_count": 7,
   "id": "2e6acb52-cc3d-4a73-afb9-a6568a0fa8e1",
   "metadata": {},
   "outputs": [
    {
     "name": "stdout",
     "output_type": "stream",
     "text": [
      "Accuracy: 0.8322147651006712\n",
      "Classification Report:\n",
      "              precision    recall  f1-score   support\n",
      "\n",
      "           0       0.82      0.83      0.83        72\n",
      "           1       0.84      0.83      0.84        77\n",
      "\n",
      "    accuracy                           0.83       149\n",
      "   macro avg       0.83      0.83      0.83       149\n",
      "weighted avg       0.83      0.83      0.83       149\n",
      "\n"
     ]
    },
    {
     "name": "stderr",
     "output_type": "stream",
     "text": [
      "C:\\Users\\DCL\\AppData\\Local\\Packages\\PythonSoftwareFoundation.Python.3.10_qbz5n2kfra8p0\\LocalCache\\local-packages\\Python310\\site-packages\\sklearn\\linear_model\\_logistic.py:469: ConvergenceWarning: lbfgs failed to converge (status=1):\n",
      "STOP: TOTAL NO. of ITERATIONS REACHED LIMIT.\n",
      "\n",
      "Increase the number of iterations (max_iter) or scale the data as shown in:\n",
      "    https://scikit-learn.org/stable/modules/preprocessing.html\n",
      "Please also refer to the documentation for alternative solver options:\n",
      "    https://scikit-learn.org/stable/modules/linear_model.html#logistic-regression\n",
      "  n_iter_i = _check_optimize_result(\n"
     ]
    },
    {
     "data": {
      "image/png": "[encoded data removed]",
      "text/plain": [
       "<Figure size 800x600 with 2 Axes>"
      ]
     },
     "metadata": {},
     "output_type": "display_data"
    },
    {
     "name": "stderr",
     "output_type": "stream",
     "text": [
      "C:\\Users\\DCL\\AppData\\Local\\Packages\\PythonSoftwareFoundation.Python.3.10_qbz5n2kfra8p0\\LocalCache\\local-packages\\Python310\\site-packages\\sklearn\\linear_model\\_logistic.py:469: ConvergenceWarning: lbfgs failed to converge (status=1):\n",
      "STOP: TOTAL NO. of ITERATIONS REACHED LIMIT.\n",
      "\n",
      "Increase the number of iterations (max_iter) or scale the data as shown in:\n",
      "    https://scikit-learn.org/stable/modules/preprocessing.html\n",
      "Please also refer to the documentation for alternative solver options:\n",
      "    https://scikit-learn.org/stable/modules/linear_model.html#logistic-regression\n",
      "  n_iter_i = _check_optimize_result(\n"
     ]
    },
    {
     "data": {
      "text/plain": [
       "<Figure size 1200x500 with 0 Axes>"
      ]
     },
     "metadata": {},
     "output_type": "display_data"
    }
   ],
   "source": [
    "import pandas as pd\n",
    "import numpy as np\n",
    "from sklearn.model_selection import train_test_split\n",
    "from sklearn.linear_model import LogisticRegression\n",
    "from sklearn.metrics import classification_report, accuracy_score, confusion_matrix\n",
    "import joblib\n",
    "import matplotlib.pyplot as plt\n",
    "import seaborn as sns\n",
    "\n",
    "sensory_abnormal_df = pd.read_csv(r'D:\\Sayeem\\Research\\Brain Sclerosis\\Predicted Segmentation\\Sensory_Abnormal.csv')\n",
    "sensory_normal_df = pd.read_csv(r'D:\\Sayeem\\Research\\Brain Sclerosis\\Predicted Segmentation\\Sensory_Normal.csv')\n",
    "\n",
    "sensory_abnormal_df['Sensory_Status'] = 'Abnormal'\n",
    "sensory_normal_df['Sensory_Status'] = 'Normal'\n",
    "\n",
    "data_df = pd.concat([sensory_abnormal_df, sensory_normal_df])\n",
    "\n",
    "data_df['Sensory_Status'] = data_df['Sensory_Status'].map({'Normal': 0, 'Abnormal': 1})\n",
    "\n",
    "features = data_df.drop(columns=['Sensory_Status', 'Image'])\n",
    "labels = data_df['Sensory_Status']\n",
    "\n",
    "features.replace([np.inf, -np.inf], np.nan, inplace=True)\n",
    "\n",
    "features.fillna(features.median(), inplace=True)\n",
    "\n",
    "X_train, X_test, y_train, y_test = train_test_split(features, labels, test_size=0.3, random_state=42)\n",
    "\n",
    "model = LogisticRegression(max_iter=10000, random_state=42)\n",
    "model.fit(X_train, y_train)\n",
    "\n",
    "y_pred = model.predict(X_test)\n",
    "\n",
    "accuracy = accuracy_score(y_test, y_pred)\n",
    "report = classification_report(y_test, y_pred)\n",
    "\n",
    "print(f'Accuracy: {accuracy}')\n",
    "print('Classification Report:')\n",
    "print(report)\n",
    "\n",
    "joblib.dump(model, 'sensory_status_model_logistics_regression.joblib')\n",
    "\n",
    "conf_matrix = confusion_matrix(y_test, y_pred)\n",
    "plt.figure(figsize=(8, 6))\n",
    "sns.heatmap(conf_matrix, annot=True, fmt='d', cmap='Blues', xticklabels=['Normal', 'Abnormal'], yticklabels=['Normal', 'Abnormal'])\n",
    "plt.xlabel('Predicted')\n",
    "plt.ylabel('Actual')\n",
    "plt.title('Confusion Matrix')\n",
    "plt.show()\n",
    "\n",
    "\n",
    "plt.show()\n"
   ]
  },
  {
   "cell_type": "code",
   "execution_count": null,
   "id": "9533bcd7-3850-4e9b-bddb-97a56d6ce044",
   "metadata": {},
   "outputs": [],
   "source": [
    "#Naive Bayes ->"
   ]
  },
  {
   "cell_type": "code",
   "execution_count": 1,
   "id": "4f648c86-c15a-4cba-b6ff-baad51ebc36f",
   "metadata": {},
   "outputs": [
    {
     "name": "stdout",
     "output_type": "stream",
     "text": [
      "Accuracy: 0.697986577181208\n",
      "Classification Report:\n",
      "              precision    recall  f1-score   support\n",
      "\n",
      "           0       0.79      0.51      0.62        72\n",
      "           1       0.66      0.87      0.75        77\n",
      "\n",
      "    accuracy                           0.70       149\n",
      "   macro avg       0.72      0.69      0.69       149\n",
      "weighted avg       0.72      0.70      0.69       149\n",
      "\n"
     ]
    },
    {
     "data": {
      "image/png": "[encoded data removed]",
      "text/plain": [
       "<Figure size 800x600 with 2 Axes>"
      ]
     },
     "metadata": {},
     "output_type": "display_data"
    }
   ],
   "source": [
    "import pandas as pd\n",
    "import numpy as np\n",
    "from sklearn.model_selection import train_test_split\n",
    "from sklearn.naive_bayes import GaussianNB\n",
    "from sklearn.metrics import classification_report, accuracy_score, confusion_matrix\n",
    "import joblib\n",
    "import matplotlib.pyplot as plt\n",
    "import seaborn as sns\n",
    "\n",
    "# Load the data\n",
    "sensory_abnormal_df = pd.read_csv('E:/Research data/MS/Sensory_Abnormal.csv')\n",
    "sensory_normal_df = pd.read_csv('E:/Research data/MS/Sensory_Normal.csv')\n",
    "\n",
    "# Add a column to each DataFrame to indicate the label\n",
    "sensory_abnormal_df['Sensory_Status'] = 'Abnormal'\n",
    "sensory_normal_df['Sensory_Status'] = 'Normal'\n",
    "\n",
    "# Combine the DataFrames\n",
    "data_df = pd.concat([sensory_abnormal_df, sensory_normal_df])\n",
    "\n",
    "# Encode the target variable\n",
    "data_df['Sensory_Status'] = data_df['Sensory_Status'].map({'Normal': 0, 'Abnormal': 1})\n",
    "\n",
    "# Drop columns that are not features\n",
    "features = data_df.drop(columns=['Sensory_Status', 'Image'])\n",
    "labels = data_df['Sensory_Status']\n",
    "\n",
    "# Check for infinite values and replace them with NaN\n",
    "features.replace([np.inf, -np.inf], np.nan, inplace=True)\n",
    "\n",
    "# Fill NaNs with the median value of each column\n",
    "features.fillna(features.median(), inplace=True)\n",
    "\n",
    "# Split the data into training and testing sets\n",
    "X_train, X_test, y_train, y_test = train_test_split(features, labels, test_size=0.3, random_state=42)\n",
    "\n",
    "# Initialize and train the Naive Bayes model\n",
    "model = GaussianNB()\n",
    "model.fit(X_train, y_train)\n",
    "\n",
    "# Predict on the test set\n",
    "y_pred = model.predict(X_test)\n",
    "\n",
    "# Evaluate the model\n",
    "accuracy = accuracy_score(y_test, y_pred)\n",
    "report = classification_report(y_test, y_pred)\n",
    "\n",
    "print(f'Accuracy: {accuracy}')\n",
    "print('Classification Report:')\n",
    "print(report)\n",
    "\n",
    "# Save the model\n",
    "joblib.dump(model, 'sensory_status_naive_bayes_model.joblib')\n",
    "\n",
    "# Plot the confusion matrix\n",
    "conf_matrix = confusion_matrix(y_test, y_pred)\n",
    "plt.figure(figsize=(8, 6))\n",
    "sns.heatmap(conf_matrix, annot=True, fmt='d', cmap='Blues', xticklabels=['Normal', 'Abnormal'], yticklabels=['Normal', 'Abnormal'])\n",
    "plt.xlabel('Predicted')\n",
    "plt.ylabel('Actual')\n",
    "plt.title('Confusion Matrix')\n",
    "plt.show()\n",
    "\n",
    "# To load the model later, we can use:\n",
    "# model = joblib.load('sensory_status_naive_bayes_model.joblib')\n"
   ]
  },
  {
   "cell_type": "code",
   "execution_count": null,
   "id": "e7b6faee-6f67-4903-835a-72b309d7ca16",
   "metadata": {},
   "outputs": [],
   "source": []
  }
 ],
 "metadata": {
  "kernelspec": {
   "display_name": "Python 3 (ipykernel)",
   "language": "python",
   "name": "python3"
  },
  "language_info": {
   "codemirror_mode": {
    "name": "ipython",
    "version": 3
   },
   "file_extension": ".py",
   "mimetype": "text/x-python",
   "name": "python",
   "nbconvert_exporter": "python",
   "pygments_lexer": "ipython3",
   "version": "3.9.19"
  }
 },
 "nbformat": 4,
 "nbformat_minor": 5
}
